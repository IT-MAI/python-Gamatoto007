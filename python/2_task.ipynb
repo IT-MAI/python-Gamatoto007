{
 "cells": [
  {
   "cell_type": "markdown",
   "id": "246424fe",
   "metadata": {},
   "source": [
    "# Самостоятельная работа #2\n",
    "### Задание 1\n",
    "\n",
    "Допишите функцию, которая принимает 2 числа, сравнивает между собой и возвращает наименьшее."
   ]
  },
  {
   "cell_type": "code",
   "execution_count": 3,
   "id": "1b225d18",
   "metadata": {},
   "outputs": [
    {
     "name": "stdout",
     "output_type": "stream",
     "text": [
      "Введите первое число 97654\n",
      "Введите второе число 23523\n",
      "Меньшее число:  23523\n"
     ]
    }
   ],
   "source": [
    "a=int(input(\"Введите первое число \"))\n",
    "b=int(input(\"Введите второе число \"))\n",
    "c=min(a,b)\n",
    "print (\"Меньшее число: \", c)"
   ]
  },
  {
   "cell_type": "markdown",
   "id": "9342d85f",
   "metadata": {},
   "source": [
    "### Задание 2\n",
    "\n",
    "Допишите функцию, которая принимает 3 числа, сравнивает между собой и возвращает наименьшее."
   ]
  },
  {
   "cell_type": "code",
   "execution_count": 2,
   "id": "5371aa95",
   "metadata": {},
   "outputs": [
    {
     "name": "stdout",
     "output_type": "stream",
     "text": [
      "Введите первое число 1\n",
      "Введите второе число 6\n",
      "Введите третье число 3\n",
      "Меньшее число:  1\n"
     ]
    }
   ],
   "source": [
    "a=int(input(\"Введите первое число \"))\n",
    "b=int(input(\"Введите второе число \"))\n",
    "c=int(input(\"Введите третье число \"))\n",
    "d=min(a,b,c)\n",
    "print (\"Меньшее число: \", d)"
   ]
  },
  {
   "cell_type": "markdown",
   "id": "9ef85dfd",
   "metadata": {},
   "source": [
    "### Задание 3\n",
    "\n",
    "Допишите функцию, которая принимает 3 числа, сравнивает между собой и возвращает количество совпадающих чисел. Соответственно, программа может возвращать одно из трех чисел: 3 - если совпадают все, 2 - если совпадают 2 числа, 0 - если все числа различны."
   ]
  },
  {
   "cell_type": "code",
   "execution_count": 1,
   "id": "ec6a169c",
   "metadata": {},
   "outputs": [
    {
     "name": "stdout",
     "output_type": "stream",
     "text": [
      "Введите первое число 5\n",
      "Введите второе число 3\n",
      "Введите третье число 5\n",
      "Два числа одинаковы\n"
     ]
    }
   ],
   "source": [
    "a=int(input(\"Введите первое число \"))\n",
    "b=int(input(\"Введите второе число \"))\n",
    "c=int(input(\"Введите третье число \"))\n",
    "if a==b and b==c:\n",
    "    print(\"Все числа одинаковы\")\n",
    "elif a==b or b==c or a==c:\n",
    "    print(\"Два числа одинаковы\")\n",
    "else:\n",
    "    print(\"Совпадений не найдено\")"
   ]
  },
  {
   "cell_type": "code",
   "execution_count": null,
   "id": "14ff3427",
   "metadata": {},
   "outputs": [],
   "source": []
  }
 ],
 "metadata": {
  "kernelspec": {
   "display_name": "Python 3 (ipykernel)",
   "language": "python",
   "name": "python3"
  },
  "language_info": {
   "codemirror_mode": {
    "name": "ipython",
    "version": 3
   },
   "file_extension": ".py",
   "mimetype": "text/x-python",
   "name": "python",
   "nbconvert_exporter": "python",
   "pygments_lexer": "ipython3",
   "version": "3.9.7"
  }
 },
 "nbformat": 4,
 "nbformat_minor": 5
}
