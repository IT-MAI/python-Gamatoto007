{
 "cells": [
  {
   "cell_type": "markdown",
   "id": "85755de8",
   "metadata": {},
   "source": [
    "# Самостоятельное задание #5\n",
    "\n",
    "\n",
    "### Задание 1\n",
    "\n",
    "Допишите функцию, которая принимает список, выбирает из него все элементы с четным индексом и возвращает их в виде списка."
   ]
  },
  {
   "cell_type": "code",
   "execution_count": null,
   "id": "6ef6d9b3",
   "metadata": {},
   "outputs": [],
   "source": [
    "N=int(input(\"Введите число: \"))\n",
    "for i in range(1,N+1,2):\n",
    "     print(i)"
   ]
  },
  {
   "cell_type": "markdown",
   "id": "443974c9",
   "metadata": {},
   "source": [
    "### Задание 2\n",
    "\n",
    "Допишите функцию, которая принимает список, выбирает из него все элементы, которые больше предыдущего и возвращает их в виде списка.\n"
   ]
  },
  {
   "cell_type": "code",
   "execution_count": null,
   "id": "3a8cf925",
   "metadata": {},
   "outputs": [],
   "source": [
    "biba=[1,2,3,4,5]\n",
    "boba=[]\n",
    "for i in range(len(biba)-1):\n",
    "    if biba[i+1]>biba[i]:\n",
    "        boba.append(biba[i+1])\n",
    "print(boba)"
   ]
  },
  {
   "cell_type": "markdown",
   "id": "34524ede",
   "metadata": {},
   "source": [
    "### Задание 3\n",
    "\n",
    "Допишите функцию, которая принимает список, меняет местами наибольший и наименьший элементы и возвращает этот список."
   ]
  },
  {
   "cell_type": "code",
   "execution_count": null,
   "id": "34d2beae",
   "metadata": {},
   "outputs": [],
   "source": [
    "aboba=[1, 2, 3, 4, 5, 6, 7, 8, 9, 10]\n",
    "aboba[aboba.index(max(aboba))], aboba[aboba.index(min(aboba))] = aboba[aboba.index(min(aboba))], aboba[aboba.index(max(aboba))]\n",
    "print(aboba)"
   ]
  }
 ],
 "metadata": {
  "kernelspec": {
   "display_name": "Python 3 (ipykernel)",
   "language": "python",
   "name": "python3"
  },
  "language_info": {
   "codemirror_mode": {
    "name": "ipython",
    "version": 3
   },
   "file_extension": ".py",
   "mimetype": "text/x-python",
   "name": "python",
   "nbconvert_exporter": "python",
   "pygments_lexer": "ipython3",
   "version": "3.9.7"
  }
 },
 "nbformat": 4,
 "nbformat_minor": 5
}
