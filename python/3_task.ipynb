{
 "cells": [
  {
   "cell_type": "markdown",
   "id": "657be689",
   "metadata": {},
   "source": [
    "# Самостоятельное задание #3\n",
    "\n",
    "\n",
    "### Задание 1\n",
    "\n",
    "Допишите функцию, которая принимает массив из 10 чисел и возвращает их сумму."
   ]
  },
  {
   "cell_type": "code",
   "execution_count": 4,
   "id": "ff5dba75",
   "metadata": {},
   "outputs": [
    {
     "name": "stdout",
     "output_type": "stream",
     "text": [
      "10\n",
      "9\n",
      "8\n",
      "7\n",
      "6\n",
      "5\n",
      "4\n",
      "3\n",
      "2\n",
      "1\n",
      "55\n"
     ]
    }
   ],
   "source": [
    "aboba=[]\n",
    "for i in range(10):\n",
    "    x=int(input())\n",
    "    aboba.append(x)\n",
    "print(sum(aboba))"
   ]
  },
  {
   "cell_type": "markdown",
   "id": "eb78afc0",
   "metadata": {},
   "source": [
    "\n",
    "### Задание 2\n",
    "\n",
    "Допишите функцию, которая принимает массив чисел и возвращает количество чисел равных нулю."
   ]
  },
  {
   "cell_type": "code",
   "execution_count": 1,
   "id": "7e8fe536",
   "metadata": {},
   "outputs": [
    {
     "name": "stdout",
     "output_type": "stream",
     "text": [
      "4\n"
     ]
    }
   ],
   "source": [
    "aboba=[1,3,5,0,4,0,0,136,61,0,2,7]\n",
    "print(aboba.count(0))"
   ]
  },
  {
   "cell_type": "markdown",
   "id": "570d5a26",
   "metadata": {},
   "source": [
    "\n",
    "### Задание 3\n",
    "\n",
    "Напишите программу, в которой задается  натуральное число n и выводится лестница из n ступенек, i-я ступенька должна состоять из чисел от 1 до i без пробелов."
   ]
  },
  {
   "cell_type": "code",
   "execution_count": 2,
   "id": "69fd0501",
   "metadata": {},
   "outputs": [
    {
     "name": "stdout",
     "output_type": "stream",
     "text": [
      "Введите число 5\n",
      "1\n",
      "12\n",
      "123\n",
      "1234\n",
      "12345\n"
     ]
    }
   ],
   "source": [
    "N = int(input(\"Введите число: \"))\n",
    "for i in range(1,N+1):\n",
    "    print(\"\".join(str(x) for x in range(1,i+1)))"
   ]
  },
  {
   "cell_type": "markdown",
   "id": "b6ef1c44",
   "metadata": {},
   "source": [
    "\n",
    "### Задание 4\n",
    "\n",
    "Напишите программу, в которой задается натуральное число n и выводится пирамида из n ступенек, i-я ступень должна состоять из чисел от 1 до i и обратно без пробелов."
   ]
  },
  {
   "cell_type": "code",
   "execution_count": 23,
   "id": "6b038f87",
   "metadata": {},
   "outputs": [
    {
     "name": "stdout",
     "output_type": "stream",
     "text": [
      "5\n",
      "\n",
      "    1    \n",
      "   121   \n",
      "  12321  \n",
      " 1234321 \n",
      "123454321"
     ]
    }
   ],
   "source": [
    "N=int(input())\n",
    "arr=[]\n",
    "for i in range(N):\n",
    "    arr.append([])\n",
    "    for j in range(2*N-1):\n",
    "        arr[i].append(' ')\n",
    "        \n",
    "for i in range(0, n):\n",
    "    for j in range(0, i+1):\n",
    "        arr[i][n-j-1] = f'{i-j+1}'\n",
    "        arr[i][n+j-1] = f'{i-j+1}'\n",
    "for i in range(0, n):\n",
    "    print()\n",
    "    for j in range(0, 2*n-1):\n",
    "        print(arr[i][j], sep='',end='')"
   ]
  },
  {
   "cell_type": "markdown",
   "id": "b4552ef5",
   "metadata": {},
   "source": [
    "\n",
    "### Задание 5\n",
    "\n",
    "Напишите программу, в которой задается натуральное число n и выводится ромб из `n*2-1` ступенек, i-я ступень должна состоять из чисел от 1 до i и обратно без пробелов."
   ]
  },
  {
   "cell_type": "code",
   "execution_count": 25,
   "id": "91dba2ce",
   "metadata": {},
   "outputs": [
    {
     "ename": "SyntaxError",
     "evalue": "invalid syntax (Temp/ipykernel_4052/1505550689.py, line 16)",
     "output_type": "error",
     "traceback": [
      "\u001b[1;36m  File \u001b[1;32m\"C:\\Users\\Artem\\AppData\\Local\\Temp/ipykernel_4052/1505550689.py\"\u001b[1;36m, line \u001b[1;32m16\u001b[0m\n\u001b[1;33m    fox x in top_arr+sorted(top_arr, reverse=True)[1:]:\u001b[0m\n\u001b[1;37m        ^\u001b[0m\n\u001b[1;31mSyntaxError\u001b[0m\u001b[1;31m:\u001b[0m invalid syntax\n"
     ]
    }
   ],
   "source": [
    "arr = []\n",
    "top_arr=[]\n",
    "for i in range(n):\n",
    "    arr.append([])\n",
    "    for j in range(2*n-1):\n",
    "        arr[i].append(' ')\n",
    "        \n",
    "for i in range(0, n):\n",
    "    for j in range(0, i+1):\n",
    "        arr[i][n-j-1] = f'{i-j+1}'\n",
    "        arr[i][n+j-1] = f'{i-j+1}'\n",
    "for i in range(0, n):\n",
    "    print()\n",
    "    for j in range(0, 2*n-1):\n",
    "        print(arr[i][j], sep='',end='')\n",
    "fox x in top_arr+sorted(top_arr, reverse=True)[1:]:\n",
    "    print(x)"
   ]
  },
  {
   "cell_type": "code",
   "execution_count": null,
   "id": "d8d5feca",
   "metadata": {},
   "outputs": [],
   "source": []
  }
 ],
 "metadata": {
  "kernelspec": {
   "display_name": "Python 3 (ipykernel)",
   "language": "python",
   "name": "python3"
  },
  "language_info": {
   "codemirror_mode": {
    "name": "ipython",
    "version": 3
   },
   "file_extension": ".py",
   "mimetype": "text/x-python",
   "name": "python",
   "nbconvert_exporter": "python",
   "pygments_lexer": "ipython3",
   "version": "3.9.7"
  }
 },
 "nbformat": 4,
 "nbformat_minor": 5
}
